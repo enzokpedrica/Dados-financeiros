{
 "cells": [
  {
   "cell_type": "code",
   "execution_count": null,
   "id": "24522a89",
   "metadata": {},
   "outputs": [],
   "source": [
    "import requests\n",
    "\n",
    "# for ano in range(2021, 2023):\n",
    "#     for mes in range(1, 13):\n",
    "#         data = f'{ano}-{mes:02d}'\n",
    "#         url = f'https://www.alphavantage.co/query?function=TIME_SERIES_INTRADAY&symbol=NVDA&interval=5min&month={data}&outputsize=full&datatype=csv&apikey=TMANXZ3HESIZ8T0U'\n",
    "#         r = requests.get(url)\n",
    "#         #Salvar o conteúdo da resposta como CSV\n",
    "#         with open(f'C:\\\\git\\\\Dados-financeiros\\\\01 - Bronze\\\\{ano}\\\\{data}.csv', 'w', encoding='utf-8') as f:\n",
    "#             f.write(r.text)\n",
    "#         print(f'Baixando dados de {data}')\n",
    "\n",
    "for ano in range(2023, 2025):\n",
    "    for mes in range(1, 13):\n",
    "        data = f'{ano}-{mes:02d}'\n",
    "        url = f'https://www.alphavantage.co/query?function=TIME_SERIES_INTRADAY&symbol=NVDA&interval=5min&month={data}&outputsize=full&datatype=csv&apikey=TS6CPXKQF3EZ5BYM'\n",
    "        r = requests.get(url)\n",
    "        #Salvar o conteúdo da resposta como CSV\n",
    "        with open(f'C:\\\\git\\\\Dados-financeiros\\\\01 - Bronze\\\\{ano}\\\\{data}.csv', 'w', encoding='utf-8') as f:\n",
    "            f.write(r.text)\n",
    "        print(f'Baixando dados de {data}')\n",
    "\n"
   ]
  }
 ],
 "metadata": {
  "kernelspec": {
   "display_name": "Python 3",
   "language": "python",
   "name": "python3"
  },
  "language_info": {
   "codemirror_mode": {
    "name": "ipython",
    "version": 3
   },
   "file_extension": ".py",
   "mimetype": "text/x-python",
   "name": "python",
   "nbconvert_exporter": "python",
   "pygments_lexer": "ipython3",
   "version": "3.13.5"
  }
 },
 "nbformat": 4,
 "nbformat_minor": 5
}
