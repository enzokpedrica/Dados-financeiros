{
 "cells": [
  {
   "cell_type": "code",
   "execution_count": null,
   "id": "066179ee",
   "metadata": {},
   "outputs": [],
   "source": []
  },
  {
   "cell_type": "code",
   "execution_count": null,
   "id": "24522a89",
   "metadata": {},
   "outputs": [
    {
     "name": "stdout",
     "output_type": "stream",
     "text": [
      "Baixando dados de 2021-01\n",
      "Baixando dados de 2021-02\n",
      "Baixando dados de 2021-03\n",
      "Baixando dados de 2021-04\n",
      "Baixando dados de 2021-05\n",
      "Baixando dados de 2021-06\n",
      "Baixando dados de 2021-07\n",
      "Baixando dados de 2021-08\n",
      "Baixando dados de 2021-09\n",
      "Baixando dados de 2021-10\n",
      "Baixando dados de 2021-11\n",
      "Baixando dados de 2021-12\n",
      "Baixando dados de 2022-01\n",
      "Baixando dados de 2022-02\n",
      "Baixando dados de 2022-03\n",
      "Baixando dados de 2022-04\n",
      "Baixando dados de 2022-05\n",
      "Baixando dados de 2022-06\n",
      "Baixando dados de 2022-07\n",
      "Baixando dados de 2022-08\n",
      "Baixando dados de 2022-09\n",
      "Baixando dados de 2022-10\n",
      "Baixando dados de 2022-11\n",
      "Baixando dados de 2022-12\n",
      "Baixando dados de 2023-01\n",
      "Baixando dados de 2023-02\n",
      "Baixando dados de 2023-03\n",
      "Baixando dados de 2023-04\n",
      "Baixando dados de 2023-05\n",
      "Baixando dados de 2023-06\n",
      "Baixando dados de 2023-07\n",
      "Baixando dados de 2023-08\n",
      "Baixando dados de 2023-09\n",
      "Baixando dados de 2023-10\n",
      "Baixando dados de 2023-11\n",
      "Baixando dados de 2023-12\n",
      "Baixando dados de 2024-01\n",
      "Baixando dados de 2024-02\n",
      "Baixando dados de 2024-03\n",
      "Baixando dados de 2024-04\n",
      "Baixando dados de 2024-05\n",
      "Baixando dados de 2024-06\n",
      "Baixando dados de 2024-07\n",
      "Baixando dados de 2024-08\n",
      "Baixando dados de 2024-09\n",
      "Baixando dados de 2024-10\n",
      "Baixando dados de 2024-11\n",
      "Baixando dados de 2024-12\n"
     ]
    }
   ],
   "source": [
    "import requests\n",
    "\n",
    "# for ano in range(2021, 2023):\n",
    "#     for mes in range(1, 13):\n",
    "#         data = f'{ano}-{mes:02d}'\n",
    "#         url = f'https://www.alphavantage.co/query?function=TIME_SERIES_INTRADAY&symbol=NVDA&interval=5min&month={data}&outputsize=full&datatype=csv&apikey=TMANXZ3HESIZ8T0U'\n",
    "#         r = requests.get(url)\n",
    "#         #Salvar o conteúdo da resposta como CSV\n",
    "#         with open(f'C:\\\\git\\\\Dados-financeiros\\\\01 - Bronze\\\\{ano}\\\\{data}.csv', 'w', encoding='utf-8') as f:\n",
    "#             f.write(r.text)\n",
    "#         print(f'Baixando dados de {data}')\n",
    "\n",
    "for ano in range(2023, 2025):\n",
    "    for mes in range(1, 13):\n",
    "        data = f'{ano}-{mes:02d}'\n",
    "        url = f'https://www.alphavantage.co/query?function=TIME_SERIES_INTRADAY&symbol=NVDA&interval=5min&month={data}&outputsize=full&datatype=csv&apikey=TS6CPXKQF3EZ5BYM'\n",
    "        r = requests.get(url)\n",
    "        #Salvar o conteúdo da resposta como CSV\n",
    "        with open(f'C:\\\\git\\\\Dados-financeiros\\\\01 - Bronze\\\\{ano}\\\\{data}.csv', 'w', encoding='utf-8') as f:\n",
    "            f.write(r.text)\n",
    "        print(f'Baixando dados de {data}')\n",
    "\n"
   ]
  },
  {
   "cell_type": "code",
   "execution_count": null,
   "id": "414c3f1d",
   "metadata": {},
   "outputs": [],
   "source": []
  }
 ],
 "metadata": {
  "kernelspec": {
   "display_name": "Python 3",
   "language": "python",
   "name": "python3"
  },
  "language_info": {
   "codemirror_mode": {
    "name": "ipython",
    "version": 3
   },
   "file_extension": ".py",
   "mimetype": "text/x-python",
   "name": "python",
   "nbconvert_exporter": "python",
   "pygments_lexer": "ipython3",
   "version": "3.12.4"
  }
 },
 "nbformat": 4,
 "nbformat_minor": 5
}
