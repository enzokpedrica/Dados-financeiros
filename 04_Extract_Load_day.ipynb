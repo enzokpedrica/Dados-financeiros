{
 "cells": [
  {
   "cell_type": "code",
   "execution_count": 1,
   "id": "97ae1cd2",
   "metadata": {},
   "outputs": [
    {
     "name": "stdout",
     "output_type": "stream",
     "text": [
      "Collecting pyodbc\n",
      "  Downloading pyodbc-5.2.0-cp313-cp313-win_amd64.whl.metadata (2.8 kB)\n",
      "Downloading pyodbc-5.2.0-cp313-cp313-win_amd64.whl (69 kB)\n",
      "Installing collected packages: pyodbc\n",
      "Successfully installed pyodbc-5.2.0\n",
      "Note: you may need to restart the kernel to use updated packages.\n"
     ]
    },
    {
     "name": "stderr",
     "output_type": "stream",
     "text": [
      "\n",
      "[notice] A new release of pip is available: 25.1.1 -> 25.2\n",
      "[notice] To update, run: python.exe -m pip install --upgrade pip\n"
     ]
    }
   ],
   "source": [
    "pip install pyodbc"
   ]
  },
  {
   "cell_type": "code",
   "execution_count": null,
   "id": "0e63e6ba",
   "metadata": {},
   "outputs": [
    {
     "name": "stdout",
     "output_type": "stream",
     "text": [
      "Empty DataFrame\n",
      "Columns: [open, high, low, close, volume, year, month, day, time]\n",
      "Index: []\n"
     ]
    }
   ],
   "source": [
    "import requests\n",
    "import pandas as pd\n",
    "from io import StringIO\n",
    "from datetime import datetime\n",
    "\n",
    "def extrair_dados_dia ():\n",
    "    url = f'https://www.alphavantage.co/query?function=TIME_SERIES_DAILY&symbol=NVDA&outputsize=compact&datatype=csv&apikey=TMANXZ3HESIZ8T0U'\n",
    "    r = requests.get(url)\n",
    "\n",
    "    # 2. Ler direto em um DataFrame (sem salvar em disco)\n",
    "    df = pd.read_csv(StringIO(r.text))\n",
    "\n",
    "    # 3. Tratar dados\n",
    "    df.drop_duplicates(inplace=True)\n",
    "    df['timestamp'] = pd.to_datetime(df['timestamp'])\n",
    "    df['year'] = df['timestamp'].dt.year\n",
    "    df['month'] = df['timestamp'].dt.month\n",
    "    df['day'] = df['timestamp'].dt.day\n",
    "    df['time'] = df['timestamp'].dt.time\n",
    "    df['ticket'] = \"NVDA\"\n",
    "\n",
    "    # Data de hoje (apenas AAAA-MM-DD, sem hora)\n",
    "    hoje = datetime.now().date()\n",
    "    df = df[df['timestamp'].dt.date == hoje]\n",
    "\n",
    "    df = df.drop(columns=['timestamp'])\n",
    "\n",
    "    # Filtrar pela data de hoje\n",
    "    print(df)\n",
    "\n",
    "    return (df)"
   ]
  },
  {
   "cell_type": "code",
   "execution_count": null,
   "id": "ab23e538",
   "metadata": {},
   "outputs": [],
   "source": [
    "import pyodbc\n",
    "import pandas as pd\n",
    "\n",
    "# Conexão\n",
    "server = \"ekp-svr-datafinance.database.windows.net\"\n",
    "database = \"BD_Dados_Finance\"\n",
    "username = \"admin-db\"\n",
    "password = \"Pedrica1009@\"\n",
    "driver = '{ODBC Driver 18 for SQL Server}'  # certifique-se que esse driver está instalado\n",
    "\n",
    "#Conectar\n",
    "conn = pyodbc.connect(\n",
    "    f'DRIVER={driver};SERVER={server};DATABASE={database};UID={username};PWD={password};Encrypt=yes;TrustServerCertificate=no;Connection Timeout=30;'\n",
    ")\n",
    "\n",
    "cursor = conn.cursor()\n",
    "\n",
    "# 5. Inserir no banco\n",
    "for _, row in df.iterrows():\n",
    "    cursor.execute(\"\"\"\n",
    "        INSERT INTO NVDA (ticket, year, month, day, time, open, high, low, close, volume)\n",
    "        VALUES (?, ?, ?, ?, ?, ?, ?, ?, ?, ?)\"\"\", \n",
    "        (\n",
    "    \"NVDA\",           # ticket\n",
    "    row['year'],      # year\n",
    "    row['month'],     # month\n",
    "    row['day'],       # day\n",
    "    row['time'],      # time\n",
    "    row['open'],      # open\n",
    "    row['high'],      # high\n",
    "    row['low'],       # low\n",
    "    row['close'],     # close\n",
    "    row['volume']     # volume\n",
    "))\n",
    "\n",
    "conn.commit()    \n",
    "\n",
    "# Exemplo: ler dados\n",
    "cursor.execute(\"SELECT TOP 5 * FROM NVDA\")\n",
    "for row in cursor.fetchall():\n",
    "    print(row)\n",
    "\n",
    "# Fechar conexão\n",
    "cursor.close()\n",
    "conn.close()"
   ]
  }
 ],
 "metadata": {
  "kernelspec": {
   "display_name": "Python 3",
   "language": "python",
   "name": "python3"
  },
  "language_info": {
   "codemirror_mode": {
    "name": "ipython",
    "version": 3
   },
   "file_extension": ".py",
   "mimetype": "text/x-python",
   "name": "python",
   "nbconvert_exporter": "python",
   "pygments_lexer": "ipython3",
   "version": "3.13.5"
  }
 },
 "nbformat": 4,
 "nbformat_minor": 5
}
