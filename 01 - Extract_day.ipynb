{
 "cells": [
  {
   "cell_type": "code",
   "execution_count": null,
   "id": "0e63e6ba",
   "metadata": {},
   "outputs": [
    {
     "name": "stdout",
     "output_type": "stream",
     "text": [
      "{\n",
      "    \"Information\": \"We have detected your API key as TMANXZ3HESIZ8T0U and our standard API rate limit is 25 requests per day. Please subscribe to any of the premium plans at https://www.alphavantage.co/premium/ to instantly remove all daily rate limits.\"\n",
      "}\n"
     ]
    },
    {
     "ename": "NameError",
     "evalue": "name 'ano' is not defined",
     "output_type": "error",
     "traceback": [
      "\u001b[1;31m---------------------------------------------------------------------------\u001b[0m",
      "\u001b[1;31mNameError\u001b[0m                                 Traceback (most recent call last)",
      "Cell \u001b[1;32mIn[4], line 9\u001b[0m\n\u001b[0;32m      6\u001b[0m \u001b[38;5;28mprint\u001b[39m(r\u001b[38;5;241m.\u001b[39mtext)\n\u001b[0;32m      8\u001b[0m \u001b[38;5;66;03m#Salvar o conteúdo da resposta como CSV\u001b[39;00m\n\u001b[1;32m----> 9\u001b[0m \u001b[38;5;28;01mwith\u001b[39;00m \u001b[38;5;28mopen\u001b[39m(\u001b[38;5;124mf\u001b[39m\u001b[38;5;124m'\u001b[39m\u001b[38;5;124mC:\u001b[39m\u001b[38;5;130;01m\\\\\u001b[39;00m\u001b[38;5;124mgit\u001b[39m\u001b[38;5;130;01m\\\\\u001b[39;00m\u001b[38;5;124mDados-financeiros\u001b[39m\u001b[38;5;130;01m\\\\\u001b[39;00m\u001b[38;5;124m01 - Bronze\u001b[39m\u001b[38;5;130;01m\\\\\u001b[39;00m\u001b[38;5;132;01m{\u001b[39;00m\u001b[43mano\u001b[49m\u001b[38;5;132;01m}\u001b[39;00m\u001b[38;5;130;01m\\\\\u001b[39;00m\u001b[38;5;132;01m{\u001b[39;00mdata\u001b[38;5;132;01m}\u001b[39;00m\u001b[38;5;124m.csv\u001b[39m\u001b[38;5;124m'\u001b[39m, \u001b[38;5;124m'\u001b[39m\u001b[38;5;124mw\u001b[39m\u001b[38;5;124m'\u001b[39m, encoding\u001b[38;5;241m=\u001b[39m\u001b[38;5;124m'\u001b[39m\u001b[38;5;124mutf-8\u001b[39m\u001b[38;5;124m'\u001b[39m) \u001b[38;5;28;01mas\u001b[39;00m f:\n\u001b[0;32m     10\u001b[0m     f\u001b[38;5;241m.\u001b[39mwrite(r\u001b[38;5;241m.\u001b[39mtext)\n\u001b[0;32m     11\u001b[0m     \u001b[38;5;28mprint\u001b[39m(\u001b[38;5;124mf\u001b[39m\u001b[38;5;124m'\u001b[39m\u001b[38;5;124mBaixando dados de \u001b[39m\u001b[38;5;132;01m{\u001b[39;00mdata\u001b[38;5;132;01m}\u001b[39;00m\u001b[38;5;124m'\u001b[39m)\n",
      "\u001b[1;31mNameError\u001b[0m: name 'ano' is not defined"
     ]
    }
   ],
   "source": [
    "import pyodbc\n",
    "import requests\n",
    "import pandas as pd\n",
    "from io import StringIO\n",
    "\n",
    "\n",
    "url = f'https://www.alphavantage.co/query?function=TIME_SERIES_DAILY&symbol=NVDA&outputsize=full&datatype=csv&apikey=TMANXZ3HESIZ8T0U'\n",
    "r = requests.get(url)\n",
    "\n",
    "print(r.text)\n",
    "\n",
    "# 2. Ler direto em um DataFrame (sem salvar em disco)\n",
    "df = pd.read_csv(StringIO(r.text))\n",
    "\n",
    "# 3. Tratar dados\n",
    "df.drop_duplicates(inplace=True)\n",
    "df['timestamp'] = pd.to_datetime(df['timestamp'])\n",
    "df['year'] = df['timestamp'].dt.year\n",
    "df['month'] = df['timestamp'].dt.month\n",
    "df['day'] = df['timestamp'].dt.day\n",
    "df['time'] = df['timestamp'].dt.time\n",
    "df = df.drop(columns=['timestamp'])\n",
    "\n",
    "print(df.head())  # só para inspecionar\n",
    "\n",
    "# Conexão\n",
    "server = \"ekp-svr-datafinance.database.windows.net\"\n",
    "database = \"BD_Dados_Finance\"\n",
    "username = \"admin-db\"\n",
    "password = \"Pedrica1009@\"\n",
    "driver = '{ODBC Driver 18 for SQL Server}'  # certifique-se que esse driver está instalado\n",
    "\n",
    "#Conectar\n",
    "conn = pyodbc.connect(\n",
    "    f'DRIVER={driver};SERVER={server};DATABASE={database};UID={username};PWD={password};Encrypt=yes;TrustServerCertificate=no;Connection Timeout=30;'\n",
    ")\n",
    "\n",
    "cursor = conn.cursor()\n",
    "\n",
    "# 5. Inserir no banco\n",
    "for _, row in df.iterrows():\n",
    "    cursor.execute(\"\"\"\n",
    "        INSERT INTO acoes (symbol, data, abertura, maxima, minima, fechamento, volume, year, month, day)\n",
    "        VALUES (%s, %s, %s, %s, %s, %s, %s, %s, %s, %s)\n",
    "        ON DUPLICATE KEY UPDATE\n",
    "            abertura=VALUES(abertura),\n",
    "            maxima=VALUES(maxima),\n",
    "            minima=VALUES(minima),\n",
    "            fechamento=VALUES(fechamento),\n",
    "            volume=VALUES(volume)\n",
    "    \"\"\", (\n",
    "        \"NVDA\", \n",
    "        row['timestamp'],   # aqui vc pode manter a coluna timestamp se preferir\n",
    "        row['open'],\n",
    "        row['high'],\n",
    "        row['low'],\n",
    "        row['close'],\n",
    "        row['volume'],\n",
    "        row['year'],\n",
    "        row['month'],\n",
    "        row['day']\n",
    "    ))\n",
    "\n",
    "conexao.commit()\n",
    "cursor.close()\n",
    "conexao.close()\n",
    "\n",
    "print(\"✅ Dados tratados e gravados no banco!\")\n"
   ]
  }
 ],
 "metadata": {
  "kernelspec": {
   "display_name": "Python 3",
   "language": "python",
   "name": "python3"
  },
  "language_info": {
   "codemirror_mode": {
    "name": "ipython",
    "version": 3
   },
   "file_extension": ".py",
   "mimetype": "text/x-python",
   "name": "python",
   "nbconvert_exporter": "python",
   "pygments_lexer": "ipython3",
   "version": "3.12.4"
  }
 },
 "nbformat": 4,
 "nbformat_minor": 5
}
