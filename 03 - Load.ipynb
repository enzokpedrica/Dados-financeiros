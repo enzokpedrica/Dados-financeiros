{
 "cells": [
  {
   "cell_type": "code",
   "execution_count": 1,
   "id": "f20c1cce",
   "metadata": {},
   "outputs": [
    {
     "name": "stdout",
     "output_type": "stream",
     "text": [
      "Collecting pyodbc\n",
      "  Downloading pyodbc-5.2.0-cp312-cp312-win_amd64.whl.metadata (2.8 kB)\n",
      "Downloading pyodbc-5.2.0-cp312-cp312-win_amd64.whl (69 kB)\n",
      "Installing collected packages: pyodbc\n",
      "Successfully installed pyodbc-5.2.0\n",
      "Note: you may need to restart the kernel to use updated packages.\n"
     ]
    },
    {
     "name": "stderr",
     "output_type": "stream",
     "text": [
      "\n",
      "[notice] A new release of pip is available: 24.2 -> 25.2\n",
      "[notice] To update, run: python.exe -m pip install --upgrade pip\n"
     ]
    }
   ],
   "source": [
    "pip install pyodbc"
   ]
  },
  {
   "cell_type": "code",
   "execution_count": null,
   "id": "f20cb3a2",
   "metadata": {},
   "outputs": [
    {
     "name": "stdout",
     "output_type": "stream",
     "text": [
      "(1, 'Enzo', 22)\n"
     ]
    }
   ],
   "source": [
    "import pyodbc\n",
    "import pandas as pd\n",
    "\n",
    "# Conexão\n",
    "server = \"ekp-svr-datafinance.database.windows.net\"\n",
    "database = \"BD_Dados_Finance\"\n",
    "username = \"admin-db\"\n",
    "password = \"Pedrica1009@\"\n",
    "driver = '{ODBC Driver 18 for SQL Server}'  # certifique-se que esse driver está instalado\n",
    "\n",
    "#Conectar\n",
    "conn = pyodbc.connect(\n",
    "    f'DRIVER={driver};SERVER={server};DATABASE={database};UID={username};PWD={password};Encrypt=yes;TrustServerCertificate=no;Connection Timeout=30;'\n",
    ")\n",
    "\n",
    "cursor = conn.cursor()\n",
    "\n",
    "# Exemplo: criar tabela\n",
    "cursor.execute(\"\"\"\n",
    "IF NOT EXISTS (SELECT * FROM sysobjects WHERE name='NVDA' AND xtype='U')\n",
    "BEGIN\n",
    "    CREATE TABLE NVDA (\n",
    "        Id INT PRIMARY KEY IDENTITY(1,1),\n",
    "        ticket NVARCHAR(10),\n",
    "        year INT NOT NULL,\n",
    "        month INT NOT NULL,\n",
    "        day INT NOT NULL,\n",
    "        time TIME,\n",
    "        open FLOAT NOT NULL,\n",
    "        high FLOAT NOT NULL,\n",
    "        low FLOAT NOT NULL,\n",
    "        close FLOAT NOT NULL,\n",
    "        volume FLOAT NOT NULL\n",
    "    )\n",
    "END\n",
    "\"\"\")\n",
    "conn.commit()\n",
    "\n",
    "dados = pd.read_csv(\"03 - Gold\\\\dados_load.csv\")\n",
    "\n",
    "# 5. Inserir no banco\n",
    "for _, row in dados.iterrows():\n",
    "    cursor.execute(\"\"\"\n",
    "        INSERT INTO NVDA (ticket, year, month, day, time, open, high, low, close, volume)\n",
    "        VALUES (?, ?, ?, ?, ?, ?, ?, ?, ?, ?)\"\"\", \n",
    "        (\n",
    "    \"NVDA\",           # ticket\n",
    "    row['year'],      # year\n",
    "    row['month'],     # month\n",
    "    row['day'],       # day\n",
    "    row['time'],      # time\n",
    "    row['open'],      # open\n",
    "    row['high'],      # high\n",
    "    row['low'],       # low\n",
    "    row['close'],     # close\n",
    "    row['volume']     # volume\n",
    "))\n",
    "\n",
    "# Exemplo: ler dados\n",
    "cursor.execute(\"SELECT TOP 10 * FROM NVDA\")\n",
    "for row in cursor.fetchall():\n",
    "    print(row)\n",
    "\n",
    "# Fechar conexão\n",
    "cursor.close()\n",
    "conn.close()\n"
   ]
  }
 ],
 "metadata": {
  "kernelspec": {
   "display_name": "Python 3",
   "language": "python",
   "name": "python3"
  },
  "language_info": {
   "codemirror_mode": {
    "name": "ipython",
    "version": 3
   },
   "file_extension": ".py",
   "mimetype": "text/x-python",
   "name": "python",
   "nbconvert_exporter": "python",
   "pygments_lexer": "ipython3",
   "version": "3.12.4"
  }
 },
 "nbformat": 4,
 "nbformat_minor": 5
}
